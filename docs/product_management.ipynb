{
 "cells": [
  {
   "cell_type": "markdown",
   "metadata": {},
   "source": [
    "# プロダクト管理"
   ]
  },
  {
   "cell_type": "markdown",
   "metadata": {},
   "source": [
    "## アジャイル開発\n",
    "### アジャイル開発の原則\n",
    "  * 顧客満足を最優先する\n",
    "  * 1つのプロジェクトに集中する\n",
    "  * 途中で要求を変更することを歓迎する\n",
    "  * 短い期間で成果物を作り出す\n",
    "  * ユーザーと開発者が常に協力する\n",
    "  * 仕事の進捗状況を定期的にチェックする\n",
    "  * 継続的に改善を行う\n",
    "### スクラム\n",
    "  * スプリント\n",
    "    * 1スプリント: 1週間〜1ヶ月\n",
    "    * スプリントの開始時には、スプリントバックログを作成する\n",
    "    * スプリントバックログ: スプリントで実施する作業のリスト\n",
    "    * スプリントバックログから、スプリントで実施する作業を選択する\n",
    "  * スクラムミーティング\n",
    "    * デイリースクラム\n",
    "      * 15分以内\n",
    "      * 3つの質問\n",
    "        * 昨日何をしたか\n",
    "        * 今日何をするか\n",
    "        * 障害はないか\n",
    "    * スプリントレビュー\n",
    "      * スプリントの終了時に行う\n",
    "      * スプリントで作成した成果物を顧客に見てもらう\n",
    "    * スプリントレトロスペクティブ\n",
    "      * スプリントの終了時に行う\n",
    "      * スプリントで行ったことを振り返る\n"
   ]
  },
  {
   "cell_type": "markdown",
   "metadata": {},
   "source": [
    "## 管理手法\n",
    "### GitHub Projectsの概要\n",
    "GitHub Projectsを利用することで、タスク管理を行う。  \n",
    "[一休 GitHub Projects を利用したタスク管理](https://user-first.ikyu.co.jp/entry/2023/11/09/175121)  \n",
    "[GitHub Projects Docs](https://docs.github.com/ja/issues/planning-and-tracking-with-projects/learning-about-projects/about-projects)  \n",
    "プロジェクトは、追加した issue と pull request から構築され、プロジェクトと作業の間に直接参照が作成されます。 変更を加えると情報がプロジェクトに自動的に同期され、ビューとグラフが更新されます。 この統合は双方向なので、pull reqeust や issue に関する情報をプロジェクト内で変更すると、その pull request や issue にはその情報が反映されます。\n",
    "### GitHub Projectsの使用方法\n",
    "* プロジェクトの作成\n",
    "  * GitHub のリポジトリのページで、Projects をクリックします。\n",
    "  * プロジェクトの作成をクリックします。\n",
    "  * プロジェクトの名前を入力します。\n",
    "  * プロジェクトのテンプレートを選択します。\n",
    "  * プロジェクトを作成します。\n",
    "* プロジェクトの編集\n",
    "  * ISSUEの追加\n",
    "    * プロジェクトページでAdd itemをクリックします。"
   ]
  }
 ],
 "metadata": {
  "kernelspec": {
   "display_name": "annotate3d",
   "language": "python",
   "name": "python3"
  },
  "language_info": {
   "name": "python",
   "version": "3.10.13"
  }
 },
 "nbformat": 4,
 "nbformat_minor": 2
}
