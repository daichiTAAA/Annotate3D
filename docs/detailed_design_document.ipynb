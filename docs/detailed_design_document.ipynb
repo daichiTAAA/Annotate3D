{
 "cells": [
  {
   "cell_type": "markdown",
   "metadata": {},
   "source": [
    "# シーケンス図"
   ]
  },
  {
   "cell_type": "markdown",
   "metadata": {},
   "source": [
    "# データベース物理設計書"
   ]
  }
 ],
 "metadata": {
  "kernelspec": {
   "display_name": "annotate3d",
   "language": "python",
   "name": "python3"
  },
  "language_info": {
   "name": "python",
   "version": "3.10.13"
  }
 },
 "nbformat": 4,
 "nbformat_minor": 2
}
