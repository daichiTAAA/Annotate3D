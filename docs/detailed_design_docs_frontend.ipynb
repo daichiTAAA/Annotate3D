{
 "cells": [
  {
   "cell_type": "markdown",
   "metadata": {},
   "source": [
    "# フロントエンド構成"
   ]
  },
  {
   "cell_type": "markdown",
   "metadata": {},
   "source": [
    "# djangoの検証\n",
    "[django公式ドキュメント](https://docs.djangoproject.com/ja/5.0/)\n",
    "* アプリの作成方法\n",
    "```\n",
    "cd src\n",
    "django-admin startproject mysite\n",
    "cd mysite\n",
    "python manage.py startapp polls\n",
    "```\n",
    "* 開発サーバーの起動方法\n",
    "```\n",
    "cd src/mysite\n",
    "python manage.py runserver\n",
    "```"
   ]
  },
  {
   "cell_type": "markdown",
   "metadata": {},
   "source": []
  }
 ],
 "metadata": {
  "kernelspec": {
   "display_name": "annotate3d",
   "language": "python",
   "name": "python3"
  },
  "language_info": {
   "name": "python",
   "version": "3.10.13"
  }
 },
 "nbformat": 4,
 "nbformat_minor": 2
}
