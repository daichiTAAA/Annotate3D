{
 "cells": [
  {
   "cell_type": "markdown",
   "metadata": {},
   "source": [
    "# フロントエンド構成"
   ]
  },
  {
   "cell_type": "markdown",
   "metadata": {},
   "source": [
    "# djangoの検証\n",
    "[django公式ドキュメント](https://docs.djangoproject.com/ja/5.0/)\n",
    "* アプリの作成方法\n",
    "```\n",
    "cd src\n",
    "django-admin startproject mysite\n",
    "cd mysite\n",
    "python manage.py startapp polls\n",
    "```\n",
    "* 開発サーバーの起動方法\n",
    "```\n",
    "cd src/mysite\n",
    "python manage.py runserver\n",
    "```"
   ]
  },
  {
   "cell_type": "markdown",
   "metadata": {},
   "source": [
    "# DjangoとPlotly Dashの統合検証\n",
    "[GitHub GibbsConsulting/django-plotly-dash](https://github.com/GibbsConsulting/django-plotly-dash)  \n",
    "を元に検証を行う。  \n",
    "エラーが出て上手くいかなかった。また、設定も複雑になる。  \n",
    "そのため、django-plotly-dashを使用せず、2つのサーバーを立ち上げて通信する形にする。"
   ]
  },
  {
   "cell_type": "markdown",
   "metadata": {},
   "source": [
    "# DjangoとPlotly Dashの独立サーバー連携検証\n",
    "上手くいった。\n",
    "\n",
    "Plotly Dashサーバーの立ち上げ\n",
    "```\n",
    "cd src/dash\n",
    "python demo.py\n",
    "```\n",
    "http://127.0.0.1:8050/　にアクセスすると、Plotly Dashのページが表示される。  \n",
    "\n",
    "Djangoサーバーの立ち上げ\n",
    "```\n",
    "cd src/mysite\n",
    "python manage.py runserver\n",
    "```\n",
    "http://127.0.0.1:8000/polls/　にアクセスすると、Djangoのページが表示される。\n",
    "\n",
    "それぞれのリンクをクリックすると、相手のページに遷移する。  \n",
    "Plotly Dash側のリンク\n",
    "```\n",
    "app.layout = html.Div(\n",
    "    [\n",
    "        # Add a link to go back to Django\n",
    "        html.A(\"Go to Django App\", href=\"http://localhost:8000/polls/\"),\n",
    "    ]\n",
    ")\n",
    "```\n",
    "Django側のリンク\n",
    "```\n",
    "<a href=\"http://localhost:8050\">Go to Dash App</a>\n",
    "```"
   ]
  }
 ],
 "metadata": {
  "kernelspec": {
   "display_name": "annotate3d",
   "language": "python",
   "name": "python3"
  },
  "language_info": {
   "name": "python",
   "version": "3.10.13"
  }
 },
 "nbformat": 4,
 "nbformat_minor": 2
}
