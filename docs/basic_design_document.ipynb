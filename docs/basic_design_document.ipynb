{
 "cells": [
  {
   "cell_type": "markdown",
   "metadata": {},
   "source": [
    "# 業務フロー"
   ]
  },
  {
   "cell_type": "markdown",
   "metadata": {},
   "source": [
    "# 機能一覧表\n",
    "* 3D CADデータを点群データに変換する\n",
    "* 3D CAD点群データで点群物体検知モデルを学習する\n",
    "* 2つ以上のカメラから撮影した物体の点群形状を復元する\n",
    "* 点群物体検知モデルで物体検知を行う\n",
    "* 物体検知した画像に3D CADのメタデータを使って品番や品名をアノテーションする"
   ]
  },
  {
   "cell_type": "markdown",
   "metadata": {},
   "source": [
    "# ネットワーク構成図"
   ]
  },
  {
   "cell_type": "markdown",
   "metadata": {},
   "source": [
    "# テーブル定義"
   ]
  },
  {
   "cell_type": "markdown",
   "metadata": {},
   "source": [
    "# ER図"
   ]
  },
  {
   "cell_type": "markdown",
   "metadata": {},
   "source": [
    "# 画面レイアウト\n",
    "* 3D CADデータを点群データに変換する\n",
    "  * 3D CADデータを指定する\n",
    "  * 3D CADデータを点群データに変換して保存する"
   ]
  }
 ],
 "metadata": {
  "kernelspec": {
   "display_name": "annotate3d",
   "language": "python",
   "name": "python3"
  },
  "language_info": {
   "name": "python",
   "version": "3.10.13"
  }
 },
 "nbformat": 4,
 "nbformat_minor": 2
}
